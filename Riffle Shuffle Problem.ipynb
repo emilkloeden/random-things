{
 "cells": [
  {
   "cell_type": "code",
   "execution_count": 3,
   "metadata": {
    "collapsed": true
   },
   "outputs": [],
   "source": [
    "import random"
   ]
  },
  {
   "cell_type": "code",
   "execution_count": 63,
   "metadata": {
    "collapsed": true
   },
   "outputs": [],
   "source": [
    "def riffle(deck):\n",
    "    first_half = []\n",
    "    second_half = []\n",
    "    \n",
    "    i = 0\n",
    "    while len(deck) > 0:\n",
    "        if len(deck) == 1:\n",
    "            if (i % 2 == 0):\n",
    "                first_half += deck\n",
    "                deck = []\n",
    "            else:\n",
    "                second_half += deck\n",
    "                deck = []\n",
    "        else:\n",
    "            random_number_to_pick = random.randrange(1, len(deck),1)\n",
    "            if (i % 2 == 0):\n",
    "                first_half += deck[:random_number_to_pick]\n",
    "                deck = deck[random_number_to_pick:]\n",
    "            else:\n",
    "                second_half += deck[:random_number_to_pick]\n",
    "                deck = deck[random_number_to_pick:]\n",
    "            i += 1\n",
    "\n",
    "            \n",
    "    new_deck = first_half + second_half\n",
    "    \n",
    "    return new_deck\n",
    "        \n",
    "    \n",
    "def has_been_riffle_shuffled_once_only(deck):\n",
    "    decks = [[],[]]\n",
    "    i = 0\n",
    "    a_or_b = 0\n",
    "    current_number = 0\n",
    "    \n",
    "    while i < len(deck) - 1:\n",
    "        if deck[i] > current_number:\n",
    "            current_number = deck[i]\n",
    "            decks[a_or_b % 2].append(current_number)\n",
    "        else:\n",
    "            current_number = deck[i]\n",
    "            a_or_b += 1\n",
    "            decks[a_or_b % 2].append(current_number)\n",
    "        \n",
    "        \n",
    "        i += 1\n",
    "    \n",
    "    # Return false if decks are in original state\n",
    "    if (decks[0] + decks[1] == sorted(decks[0] + decks[1])):\n",
    "        return False\n",
    "    \n",
    "    # Return true when each half of a deck is sorted in increasing order\n",
    "    elif (decks[0] == sorted(decks[0]) and decks[1] == sorted(decks[1])):\n",
    "        return True\n",
    "    \n",
    "    # Otherwise return false (if each half is not sorted the deck must \n",
    "    # have been shuffled more than once)\n",
    "    else:\n",
    "        return False\n",
    "        \n",
    "            \n",
    "        "
   ]
  },
  {
   "cell_type": "code",
   "execution_count": 64,
   "metadata": {
    "collapsed": false
   },
   "outputs": [],
   "source": [
    "deck_of_cards = range(1,53)\n",
    "new_deck_of_cards = riffle(deck_of_cards)\n",
    "second_shuffle = riffle(new_deck_of_cards)"
   ]
  },
  {
   "cell_type": "code",
   "execution_count": 65,
   "metadata": {
    "collapsed": false
   },
   "outputs": [
    {
     "name": "stdout",
     "output_type": "stream",
     "text": [
      "False\n",
      "False\n",
      "True\n"
     ]
    }
   ],
   "source": [
    "print has_been_riffle_shuffled_once_only(deck_of_cards)\n",
    "print has_been_riffle_shuffled_once_only(new_deck_of_cards)\n",
    "print has_been_riffle_shuffled_once_only(second_shuffle)"
   ]
  },
  {
   "cell_type": "code",
   "execution_count": null,
   "metadata": {
    "collapsed": true
   },
   "outputs": [],
   "source": []
  }
 ],
 "metadata": {
  "kernelspec": {
   "display_name": "Python 2",
   "language": "python",
   "name": "python2"
  },
  "language_info": {
   "codemirror_mode": {
    "name": "ipython",
    "version": 2
   },
   "file_extension": ".py",
   "mimetype": "text/x-python",
   "name": "python",
   "nbconvert_exporter": "python",
   "pygments_lexer": "ipython2",
   "version": "2.7.10"
  }
 },
 "nbformat": 4,
 "nbformat_minor": 0
}
